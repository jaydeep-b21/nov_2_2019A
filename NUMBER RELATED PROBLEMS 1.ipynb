{
 "cells": [
  {
   "cell_type": "markdown",
   "metadata": {},
   "source": [
    "# (1)  Find the max number of two numbers."
   ]
  },
  {
   "cell_type": "markdown",
   "metadata": {},
   "source": [
    "HINT:\n",
    "Ask the user to enter two numbers.\n",
    "\n",
    "Then, you can run a comparison to compare which one is larger.\n",
    "\n",
    "Think about it and try yourself first."
   ]
  },
  {
   "cell_type": "code",
   "execution_count": 1,
   "metadata": {},
   "outputs": [
    {
     "name": "stdout",
     "output_type": "stream",
     "text": [
      "First number: 55\n",
      "Second number: 23\n",
      "greater number is:  55\n"
     ]
    }
   ],
   "source": [
    "num1 = int(input(\"First number: \"))\n",
    "num2 = int(input(\"Second number: \"))\n",
    "if (num2 >= num1):\n",
    "    largest = num2\n",
    "else:\n",
    "    largest = num1\n",
    "print(\"greater number is: \", largest)"
   ]
  },
  {
   "cell_type": "markdown",
   "metadata": {},
   "source": [
    "SHORTCUT"
   ]
  },
  {
   "cell_type": "code",
   "execution_count": 2,
   "metadata": {},
   "outputs": [
    {
     "name": "stdout",
     "output_type": "stream",
     "text": [
      "First number: 55\n",
      "Second number: 23\n",
      "greater number is:  55\n"
     ]
    }
   ],
   "source": [
    "num1 = int(input(\"First number: \"))\n",
    "num2 = int(input(\"Second number: \"))\n",
    "largest = max(num1, num2)\n",
    "print(\"greater number is: \", largest)"
   ]
  },
  {
   "cell_type": "markdown",
   "metadata": {},
   "source": [
    "# (2) Find the largest of the three numbers."
   ]
  },
  {
   "cell_type": "markdown",
   "metadata": {},
   "source": [
    "HINT:\n",
    "    Ask the user to enter three numbers.\n",
    "\n",
    "Then, you can run multiple comparisons to compare which one is the largest.\n",
    "\n",
    "At first, you can consider that the first number is the largest.\n",
    "\n",
    "Then compare the second number with the first number and the third number. If the second number is greater or equal to the first number and the second number is greater or equal to the third number, then the second number is the largest.\n",
    "\n",
    "Similarly, compare the third number with the first or second number.\n",
    "\n",
    "Otherwise, the first number will be the largest.\n",
    "\n",
    "Think about it. And try yourself first."
   ]
  },
  {
   "cell_type": "code",
   "execution_count": 3,
   "metadata": {},
   "outputs": [
    {
     "name": "stdout",
     "output_type": "stream",
     "text": [
      "First number: 74\n",
      "Second number: 36\n",
      "Third number: 59\n",
      "Largest number is:  74\n"
     ]
    }
   ],
   "source": [
    "num1 = int(input(\"First number: \"))\n",
    "num2 = int(input(\"Second number: \"))\n",
    "num3 = int(input(\"Third number: \"))\n",
    " \n",
    "largest = num1\n",
    " \n",
    "if (num2 >= num1) and (num2 >= num3):\n",
    "    largest = num2\n",
    "elif (num3 >= num1) and (num3 >= num2):\n",
    "    largest = num3\n",
    "else:\n",
    "    largest = num1\n",
    "\n",
    "print(\"Largest number is: \",largest)"
   ]
  },
  {
   "cell_type": "markdown",
   "metadata": {},
   "source": [
    "SHORTCUT"
   ]
  },
  {
   "cell_type": "code",
   "execution_count": 4,
   "metadata": {},
   "outputs": [
    {
     "name": "stdout",
     "output_type": "stream",
     "text": [
      "First number: 74\n",
      "Second number: 36\n",
      "Third number: 59\n",
      "Largest number is:  74\n"
     ]
    }
   ],
   "source": [
    "num1 = int(input(\"First number: \"))\n",
    "num2 = int(input(\"Second number: \"))\n",
    "num3 = int(input(\"Third number: \"))\n",
    " \n",
    "largest = max(num1, num2, num3)\n",
    " \n",
    "print(\"Largest number is: \",largest)"
   ]
  },
  {
   "cell_type": "markdown",
   "metadata": {},
   "source": [
    "# (3) Take numbers from a user and show the average of the numbers the user entered."
   ]
  },
  {
   "cell_type": "markdown",
   "metadata": {},
   "source": [
    "HINT:\n",
    "    To solve this problem.\n",
    "\n",
    "First, ask the user - How many numbers you want to enter?\n",
    "\n",
    "Then, run a for-loop. Each time, take input from the user and put it in a list.\n",
    "\n",
    "Once you get all the numbers, you can send the list to the sum function. The sum function will add all the numbers and give you the total.\n",
    "\n",
    "Finally, divide the total by the number of elements the user entered.\n",
    "\n",
    "That’s it, you will get the answer.\n",
    "\n",
    "Want to try it yourself first? Go to the code editor and try it."
   ]
  },
  {
   "cell_type": "code",
   "execution_count": 5,
   "metadata": {},
   "outputs": [
    {
     "name": "stdout",
     "output_type": "stream",
     "text": [
      "How many numbers do you want to enter? 4\n",
      "Enter element: 7\n",
      "Enter element: 9\n",
      "Enter element: 11\n",
      "Enter element: 13\n",
      "Average of elements you entered 10.0\n"
     ]
    }
   ],
   "source": [
    "len = int(input(\"How many numbers do you want to enter? \"))\n",
    " \n",
    "nums = []\n",
    " \n",
    "for i in range(0, len):\n",
    "    element = int(input(\"Enter element: \"))\n",
    "    nums.append(element)\n",
    "\n",
    "total = sum(nums)\n",
    "avg = total/len\n",
    "print(\"Average of elements you entered\",round(avg,2))"
   ]
  },
  {
   "cell_type": "markdown",
   "metadata": {},
   "source": [
    "SHORTCUT"
   ]
  },
  {
   "cell_type": "code",
   "execution_count": 6,
   "metadata": {},
   "outputs": [
    {
     "name": "stdout",
     "output_type": "stream",
     "text": [
      "How many numbers you want to enter: 4\n",
      "Enter element: 7\n",
      "Enter element: 9\n",
      "Enter element: 11\n",
      "Enter element: 13\n",
      "Average of elements you entered 10.0\n"
     ]
    }
   ],
   "source": [
    "len=int(input(\"How many numbers you want to enter: \"))\n",
    " \n",
    "total = 0\n",
    " \n",
    "for i in range(0,len):\n",
    "    elem=int(input(\"Enter element: \"))\n",
    "    total += elem\n",
    "    \n",
    "avg = total/len\n",
    "print(\"Average of elements you entered\",round(avg,2))"
   ]
  },
  {
   "cell_type": "markdown",
   "metadata": {},
   "source": [
    "# (4) For a given number, find all the numbers smaller than the number. Numbers should be divisible by 3 and also by 5."
   ]
  },
  {
   "cell_type": "markdown",
   "metadata": {},
   "source": [
    "HINT: So, you have to check two conditions: make sure the number is divisible by 3, and also by 5. Hence, you will need to use two conditions."
   ]
  },
  {
   "cell_type": "code",
   "execution_count": 7,
   "metadata": {},
   "outputs": [
    {
     "name": "stdout",
     "output_type": "stream",
     "text": [
      "Enter your number: 729\n",
      "[0, 15, 30, 45, 60, 75, 90, 105, 120, 135, 150, 165, 180, 195, 210, 225, 240, 255, 270, 285, 300, 315, 330, 345, 360, 375, 390, 405, 420, 435, 450, 465, 480, 495, 510, 525, 540, 555, 570, 585, 600, 615, 630, 645, 660, 675, 690, 705, 720]\n"
     ]
    }
   ],
   "source": [
    "def divisible_by_3and5(num):\n",
    "    result = [ ]\n",
    "    for i in range(num):\n",
    "        if i%3 == 0 and i%5 == 0:\n",
    "            result.append(i)\n",
    "    return result\n",
    " \n",
    "num = int (input('Enter your number: '))\n",
    "result = divisible_by_3and5(num)\n",
    "print(result)"
   ]
  },
  {
   "cell_type": "markdown",
   "metadata": {},
   "source": [
    "# (5) For a given list, get the sum of each number in the list"
   ]
  },
  {
   "cell_type": "markdown",
   "metadata": {},
   "source": [
    "HINT : Should be simple for you. Declare a sum variable. Then just loop through the list and add it to the sum."
   ]
  },
  {
   "cell_type": "code",
   "execution_count": 8,
   "metadata": {},
   "outputs": [
    {
     "name": "stdout",
     "output_type": "stream",
     "text": [
      "The total of each elements: 288\n"
     ]
    }
   ],
   "source": [
    "def get_sum(nums):\n",
    "    sum = 0\n",
    "    for num in nums:\n",
    "        sum = sum + num\n",
    "    return sum\n",
    " \n",
    "\n",
    "nums = [13,89,65,42,12,11,56]\n",
    " \n",
    "total = get_sum(nums)\n",
    "print(\"The total of each elements:\",total)"
   ]
  },
  {
   "cell_type": "markdown",
   "metadata": {},
   "source": [
    "SHORTCUT"
   ]
  },
  {
   "cell_type": "code",
   "execution_count": 9,
   "metadata": {},
   "outputs": [
    {
     "name": "stdout",
     "output_type": "stream",
     "text": [
      "288\n"
     ]
    }
   ],
   "source": [
    "nums = [13,89,65,42,12,11,56]\n",
    "\n",
    "total = sum(nums)\n",
    "print(total)"
   ]
  },
  {
   "cell_type": "code",
   "execution_count": null,
   "metadata": {},
   "outputs": [],
   "source": []
  }
 ],
 "metadata": {
  "kernelspec": {
   "display_name": "Python 3",
   "language": "python",
   "name": "python3"
  },
  "language_info": {
   "codemirror_mode": {
    "name": "ipython",
    "version": 3
   },
   "file_extension": ".py",
   "mimetype": "text/x-python",
   "name": "python",
   "nbconvert_exporter": "python",
   "pygments_lexer": "ipython3",
   "version": "3.7.3"
  }
 },
 "nbformat": 4,
 "nbformat_minor": 2
}
